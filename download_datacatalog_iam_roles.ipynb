{
 "cells": [
  {
   "cell_type": "code",
   "execution_count": 1,
   "metadata": {},
   "outputs": [],
   "source": [
    "import json\n",
    "import collections\n",
    "import warnings\n",
    "\n",
    "from googleapiclient import discovery"
   ]
  },
  {
   "cell_type": "code",
   "execution_count": 2,
   "metadata": {},
   "outputs": [],
   "source": [
    "warnings.filterwarnings(\"ignore\", \"Your application has authenticated using end user credentials\")"
   ]
  },
  {
   "cell_type": "code",
   "execution_count": 3,
   "metadata": {},
   "outputs": [
    {
     "name": "stdout",
     "output_type": "stream",
     "text": [
      "Fetching list of all roles.\n",
      "roles/datacatalog.admin\n",
      "roles/datacatalog.categoryAdmin\n",
      "roles/datacatalog.categoryFineGrainedReader\n",
      "roles/datacatalog.entryGroupCreator\n",
      "roles/datacatalog.entryGroupOwner\n",
      "roles/datacatalog.entryOwner\n",
      "roles/datacatalog.entryViewer\n",
      "roles/datacatalog.tagEditor\n",
      "roles/datacatalog.tagTemplateCreator\n",
      "roles/datacatalog.tagTemplateOwner\n",
      "roles/datacatalog.tagTemplateUser\n",
      "roles/datacatalog.tagTemplateViewer\n",
      "roles/datacatalog.viewer\n",
      "Still working...\n",
      "Still working...\n",
      "Fetched all roles.\n"
     ]
    }
   ],
   "source": [
    "# Fetch most up to date role list and role descriptions from API\n",
    "\n",
    "# Build Cloud IAM API client\n",
    "iam = discovery.build('iam', 'v1')\n",
    "\n",
    "raw_role_data = {}\n",
    "\n",
    "# Build initial request\n",
    "request = iam.roles().list()\n",
    "\n",
    "print('Fetching list of all roles.')\n",
    "\n",
    "while True:\n",
    "    # Results are paginated, so iterate over the results until exhausted\n",
    "    response = request.execute()\n",
    "\n",
    "    for role in response.get('roles', []):\n",
    "        name = role['name']\n",
    "        if name not in raw_role_data:\n",
    "            # print(f'Getting details for {name}.')\n",
    "            if 'datacatalog' in name:\n",
    "                print(name)\n",
    "                # Get role details which contains included permissions\n",
    "                raw_role_data[name] = iam.roles().get(name=name).execute()\n",
    "\n",
    "    print('Still working...')\n",
    "    # Get the next page\n",
    "    request = iam.roles().list_next(previous_request=request,\n",
    "                                    previous_response=response)\n",
    "    \n",
    "    if request is None:\n",
    "        print('Fetched all roles.')\n",
    "        break"
   ]
  },
  {
   "cell_type": "code",
   "execution_count": 4,
   "metadata": {},
   "outputs": [
    {
     "name": "stdout",
     "output_type": "stream",
     "text": [
      "Writing role permissions.\n",
      "Done.\n"
     ]
    }
   ],
   "source": [
    "# Dump the data to JSON as a snapshot of state of roles/permissions\n",
    "# Useful for further processing or obviate the need for more API calls\n",
    "print('Writing role permissions.')\n",
    "\n",
    "with open('roles.json', 'w') as f:\n",
    "    json.dump(raw_role_data, f, indent=2)\n",
    "\n",
    "print('Done.')"
   ]
  },
  {
   "cell_type": "code",
   "execution_count": null,
   "metadata": {},
   "outputs": [],
   "source": []
  }
 ],
 "metadata": {
  "kernelspec": {
   "display_name": "Python 3",
   "language": "python",
   "name": "python3"
  },
  "language_info": {
   "codemirror_mode": {
    "name": "ipython",
    "version": 3
   },
   "file_extension": ".py",
   "mimetype": "text/x-python",
   "name": "python",
   "nbconvert_exporter": "python",
   "pygments_lexer": "ipython3",
   "version": "3.7.6"
  }
 },
 "nbformat": 4,
 "nbformat_minor": 4
}
